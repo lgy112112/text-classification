{
 "cells": [
  {
   "cell_type": "code",
   "execution_count": 3,
   "metadata": {},
   "outputs": [
    {
     "name": "stdout",
     "output_type": "stream",
     "text": [
      "'财经\\t基金割肉复牌门 游资捡了就被套◆每经记者 巩万龙 发自深圳游资跟基金斗法并不稀奇，但稀奇的是，游资却一直甘愿当“绿叶”，赔本赚“吆喝”。记者统计后发现，停牌数月之久的基金重仓股，在今年被基金普遍视为烫手山芋。从上半年的宏达股份、许继电气等到云天化系，以及最近的海通证券，基金大多选择割肉出局，而游资却反其道而行之，试图在跌停板上捡便宜。基金跌停板上忙割肉下半年以来，随着市场估值重心的一再下移，各种估值体系被打乱，停牌数月的重仓股复牌就要承担补跌和价值重估双重打压。对于这些“停牌门”的态度，基金大多选择加紧开跑。从最近的云天化和云南盐化到前期的宏达股份，包括许继电气、中国联通、豫园商城和哈药股份等复牌后，基金无一例外地坚决“出货”。大智慧Topview数据显示，在上述重仓股复牌后10个交易日内，机构持股比例剧减，基金均选择大幅抛售，仅云天化、宏达股份、中国联通和豫园商城四只重仓股，基金就净卖出75.73亿元。截至于11月25日，云天化的机构持股比例由77.4%下降至26.1%，基金复牌以来净卖出该股金额高达约17.86亿元，而宏达股份和豫园商城持股比例最低时分别降至2.8%和10.3%。尽管不是经过长期停牌的重仓股，但海通证券高估值风险最终被“大小非”击垮，基金对该股的处理手法更为坚决。截至本周二，海通证券机构持股仅为0.4%，基金几乎完全清仓。游资捡便宜屡屡吃亏近期反弹中游资抢了基金风头，疯狂转战各个主题投资机会，基建、水泥、钢铁、医药等行业暴涨品种都不乏游资身影。有意思的是，基金短线疯狂抛售重仓股时，市场总有游资“傻钱”将这些悉数收纳，但结果是——暴跌不止，游资捡便宜吃大亏。大智慧Topview数据显示，从11月10日至11月25日，基金、券商、保险和QFII等机构净卖出海通证券金额约为3.73亿元；游资席位买入海通证券7989万元，卖出6257万元，净买入1723万元。从11月10日至11月21日，云天化由暴跌到打开跌停，基金净卖出云天化金额为12.06亿元，游资席位净买入金额约为5300万元。去年基金重仓停牌股复牌大涨，今年熊市复牌大跌，此种情况在中国联通、宏达股份和豫园商城等品种上一样出现过。资料显示，中国联通、宏达股份和豫园商城当时复牌后的10个交易日，这些重仓股轻则股价下跌30%，重则股价腰斩。在基金无奈斩仓的同时，游资却趁机大举买入，其表现就是一些著名游资营业部如国信证券深圳泰然九路等频繁现身，而个股的股东户数迅速增加。从这些股票打开跌停后的表现来看，多数股票在打开跌停后还有巨大的跌幅，显然这些游资在介入后得到的不是利润，而是迅速形成的浮亏。分析人士表示，牛市中基金高位接盘游资筹码，熊市反倒是游资傻钱接盘基金筹码，而游资在基金撤退时每买必套，两大投资者 “阵营”的斗争是典型的利益博弈，只要市场存在，这种博弈就会如火如荼地进行下去。 \\xa0\\xa0\\xa0\\xa0相关报道：\\xa0\\xa0\\xa0\\xa0海通证券：明年下半年上市公司业绩企稳\\xa0\\xa0\\xa0\\xa0海通证券：市场回暖需要四大条件\\xa0\\xa0\\xa0\\xa0半数险企成功出逃海通证券\\xa0\\xa0\\xa0\\xa0一日成交超37亿元 海通证券遭游资抄底机构出货\\xa0\\xa0\\xa0\\xa0海通证券连续跌停 保险机构重仓跑路难\\xa0\\xa0\\xa0\\xa0云天化大戏不断七基金趁低接盘\\xa0\\xa0\\xa0\\xa0基金颗粒无收 割肉14亿元逃离云天化\\xa0\\xa0\\xa0\\xa0云天化复牌迄今跌幅59.7% 基金9天浮亏超35亿元'\n"
     ]
    }
   ],
   "source": [
    "import random\n",
    "\n",
    "with open('LongDataset/cnews.train.txt', 'r', encoding='utf-8') as file:\n",
    "    lines = file.readlines()\n",
    "    random_line = random.choice(lines)\n",
    "    print(repr(random_line.strip()))"
   ]
  },
  {
   "cell_type": "code",
   "execution_count": 4,
   "metadata": {},
   "outputs": [
    {
     "name": "stderr",
     "output_type": "stream",
     "text": [
      "50000it [00:00, 52571.02it/s]\n",
      "10000it [00:00, 44100.99it/s]\n",
      "5000it [00:00, 50315.79it/s]\n"
     ]
    }
   ],
   "source": [
    "import os\n",
    "from tqdm import tqdm\n",
    "\n",
    "# 标签映射\n",
    "label_mapping = {\n",
    "    '体育': 0,\n",
    "    '娱乐': 1,\n",
    "    '家居': 2,\n",
    "    '房产': 3,\n",
    "    '教育': 4,\n",
    "    '时尚': 5,\n",
    "    '时政': 6,\n",
    "    '游戏': 7,\n",
    "    '科技': 8,\n",
    "    '财经': 9\n",
    "}\n",
    "\n",
    "def process_file(file_path, output_path):\n",
    "    with open(file_path, 'r', encoding='utf-8') as file, open(output_path, 'w', encoding='utf-8') as output:\n",
    "        for line in tqdm(file):\n",
    "            label, content = line.split('\\t', 1)\n",
    "            output.write(f\"{content.strip()}\\t{label_mapping[label]}\\n\")\n",
    "\n",
    "# 处理三个文件\n",
    "process_file('LongDataset/cnews.train.txt', 'LongDataset/cnews.train.processed.txt')\n",
    "process_file('LongDataset/cnews.test.txt', 'LongDataset/cnews.test.processed.txt')\n",
    "process_file('LongDataset/cnews.val.txt', 'LongDataset/cnews.val.processed.txt')"
   ]
  },
  {
   "cell_type": "code",
   "execution_count": 8,
   "metadata": {},
   "outputs": [
    {
     "name": "stdout",
     "output_type": "stream",
     "text": [
      "\"组图：8大巧穿妙招做S型细腰美人导语：其实只要选择适合的款式，无论是粗放的“水桶腰”还是过长的“水蛇腰”，还是缺少曲线美的“直板腰”，都可以呈现出纤美的视觉效果。 衣摆的长度和袖口的宽度是选择短款七分袖外套的重点。选择直腰身的款式，且袖口与下摆长度接近，可以加大腰胯的空间感，视觉上达到收紧腰部的效果，呈现优雅感觉。格纹呢子外套/SISLEY 新品未定价，咖啡色吊带衫/贝纳通 新品未定价水晶珠长项链/TONIKO IMAGE，银色手袋/MANGO。搭片式上衣的领口自然产生了长线条的波纹褶，视觉上缩减了腰部的宽度。咖啡色蝙蝠衫/b+ab(i.t) ，黑色吊带衫/b+ab(i.t) ，牛仔裤/贝纳通 新品未定价，紫色高跟鞋/热风。蝙蝠袖的独特款式改变了上身的轮廓，与细节的搭配轻松转移了腰部视线，紧身牛仔裤帮助拉长整体线条。纤细腰带的穿插，使柔软分层的大散摆雪纺绸上衣明确了腰部位置的紧缩感。紫色雪纺绸上衣+腰带/happy's2n d ，牛仔裤/MORGAN，水晶长项链/ TONIKOIMAGE。上衣下摆的凹凸质地不会出现胯部紧绷感，搭配宽大的金色腰带，不会让腰部有下坠感。灰色毛衫/SISLE Y新品未定价，牛仔裤/贝纳通 新品未定价，金色宽腰带/MANGO，灰色高筒靴/热风。\\t5\"\n"
     ]
    }
   ],
   "source": [
    "import random\n",
    "\n",
    "\n",
    "\n",
    "with open('LongDataset/cnews.val.processed.txt', 'r', encoding='utf-8') as file:\n",
    "    lines = file.readlines()\n",
    "    random_line = random.choice(lines)\n",
    "    print(repr(random_line.strip()))"
   ]
  },
  {
   "cell_type": "code",
   "execution_count": 4,
   "metadata": {},
   "outputs": [
    {
     "name": "stdout",
     "output_type": "stream",
     "text": [
      "Total number of lines: 10000\n",
      "Number of lines containing '\\t': 10000\n"
     ]
    }
   ],
   "source": [
    "# Open the file and read all lines\n",
    "with open('LongDataset/cnews.test.processed.txt', 'r', encoding='utf-8') as file:\n",
    "    lines = file.readlines()\n",
    "\n",
    "# Count the total number of lines\n",
    "total_lines = len(lines)\n",
    "\n",
    "# Count the number of lines containing the tab character\n",
    "tab_count = sum(1 for line in lines if '\\t' in line)\n",
    "\n",
    "# Print the results\n",
    "print(f\"Total number of lines: {total_lines}\")\n",
    "print(f\"Number of lines containing '\\\\t': {tab_count}\")\n"
   ]
  }
 ],
 "metadata": {
  "kernelspec": {
   "display_name": "Python 3",
   "language": "python",
   "name": "python3"
  },
  "language_info": {
   "codemirror_mode": {
    "name": "ipython",
    "version": 3
   },
   "file_extension": ".py",
   "mimetype": "text/x-python",
   "name": "python",
   "nbconvert_exporter": "python",
   "pygments_lexer": "ipython3",
   "version": "3.10.10"
  }
 },
 "nbformat": 4,
 "nbformat_minor": 2
}
