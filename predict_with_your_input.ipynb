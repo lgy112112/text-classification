{
 "cells": [
  {
   "cell_type": "code",
   "execution_count": null,
   "metadata": {},
   "outputs": [
    {
     "data": {
      "text/plain": [
       "'/teamspace/studios/this_studio/resume/Chinese-Text-Classification-Pytorch'"
      ]
     },
     "execution_count": 1,
     "metadata": {},
     "output_type": "execute_result"
    }
   ],
   "source": [
    "%load_ext autoreload\n",
    "%autoreload 2\n",
    "\n",
    "import os\n",
    "# 确保当前工作目录是项目根目录\n",
    "# os.chdir('Chinese-Text-Classification-Pytorch')\n",
    "os.getcwd()"
   ]
  },
  {
   "cell_type": "code",
   "execution_count": 1,
   "metadata": {},
   "outputs": [
    {
     "ename": "NameError",
     "evalue": "name 'os' is not defined",
     "output_type": "error",
     "traceback": [
      "\u001b[0;31m---------------------------------------------------------------------------\u001b[0m",
      "\u001b[0;31mNameError\u001b[0m                                 Traceback (most recent call last)",
      "Cell \u001b[0;32mIn[1], line 16\u001b[0m\n\u001b[1;32m     13\u001b[0m config \u001b[38;5;241m=\u001b[39m x\u001b[38;5;241m.\u001b[39mConfig(dataset, embedding)\n\u001b[1;32m     15\u001b[0m \u001b[38;5;66;03m# 加载词汇表\u001b[39;00m\n\u001b[0;32m---> 16\u001b[0m vocab_path \u001b[38;5;241m=\u001b[39m \u001b[43mos\u001b[49m\u001b[38;5;241m.\u001b[39mpath\u001b[38;5;241m.\u001b[39mjoin(dataset, \u001b[38;5;124m'\u001b[39m\u001b[38;5;124mdata\u001b[39m\u001b[38;5;124m'\u001b[39m, \u001b[38;5;124m'\u001b[39m\u001b[38;5;124mvocab.pkl\u001b[39m\u001b[38;5;124m'\u001b[39m)\n\u001b[1;32m     17\u001b[0m \u001b[38;5;28;01mwith\u001b[39;00m \u001b[38;5;28mopen\u001b[39m(vocab_path, \u001b[38;5;124m'\u001b[39m\u001b[38;5;124mrb\u001b[39m\u001b[38;5;124m'\u001b[39m) \u001b[38;5;28;01mas\u001b[39;00m f:\n\u001b[1;32m     18\u001b[0m     vocab \u001b[38;5;241m=\u001b[39m pkl\u001b[38;5;241m.\u001b[39mload(f)\n",
      "\u001b[0;31mNameError\u001b[0m: name 'os' is not defined"
     ]
    }
   ],
   "source": [
    "import torch\n",
    "import numpy as np\n",
    "from importlib import import_module\n",
    "import pickle as pkl\n",
    "\n",
    "# 设置模型配置\n",
    "dataset = 'THUCNews'\n",
    "embedding = 'embedding_SougouNews.npz'\n",
    "model_name = 'TextCNN'\n",
    "\n",
    "# 动态导入模型配置和定义\n",
    "x = import_module('models.' + model_name)\n",
    "config = x.Config(dataset, embedding)\n",
    "\n",
    "# 加载词汇表\n",
    "vocab_path = os.path.join(dataset, 'data', 'vocab.pkl')\n",
    "with open(vocab_path, 'rb') as f:\n",
    "    vocab = pkl.load(f)\n",
    "\n",
    "# 初始化模型\n",
    "config.n_vocab = len(vocab)\n",
    "model = x.TransformerModel(config).to(config.device)\n",
    "\n",
    "# 检查是否有可用的GPU\n",
    "if torch.cuda.is_available():\n",
    "    device = torch.device('cuda')\n",
    "else:\n",
    "    device = torch.device('cpu')\n",
    "\n",
    "# 加载训练好的模型参数\n",
    "model_path = 'logs/log_3/model.ckpt'\n",
    "model.load_state_dict(torch.load(model_path, map_location=device))\n",
    "\n",
    "# 设置模型为评估模式\n",
    "model.eval()\n"
   ]
  },
  {
   "cell_type": "code",
   "execution_count": 3,
   "metadata": {},
   "outputs": [],
   "source": [
    "def build_dataset(config, use_word):\n",
    "    if use_word:\n",
    "        tokenizer = lambda x: x.split(' ')  # 以空格隔开，word-level\n",
    "    else:\n",
    "        tokenizer = lambda x: [y for y in x]  # char-level\n",
    "    return tokenizer\n",
    "\n",
    "# 处理单个标题\n",
    "def process_title(title, tokenizer, vocab, pad_size):\n",
    "    words_line = []\n",
    "    token = tokenizer(title)\n",
    "    seq_len = len(token)\n",
    "    if pad_size:\n",
    "        if len(token) < pad_size:\n",
    "            token.extend([PAD] * (pad_size - len(token)))\n",
    "        else:\n",
    "            token = token[:pad_size]\n",
    "            seq_len = pad_size\n",
    "    # word to id\n",
    "    for word in token:\n",
    "        words_line.append(vocab.get(word, vocab.get(UNK)))\n",
    "    return [words_line], [seq_len]\n",
    "\n",
    "# 特殊标记\n",
    "UNK, PAD = '<UNK>', '<PAD>'"
   ]
  },
  {
   "cell_type": "code",
   "execution_count": 4,
   "metadata": {},
   "outputs": [
    {
     "name": "stdout",
     "output_type": "stream",
     "text": [
      "预测类别: realty\n"
     ]
    }
   ],
   "source": [
    "\n",
    "# 设置标题和分词器\n",
    "title = \"东5环海棠公社230-290平2居准现房98折优惠\"\n",
    "tokenizer = build_dataset(config, use_word=False)\n",
    "\n",
    "# 处理标题\n",
    "title_seq, title_len = process_title(title, tokenizer, vocab, config.pad_size)\n",
    "\n",
    "# 转换为Tensor\n",
    "title_seq = torch.LongTensor(title_seq).to(device)\n",
    "title_len = torch.LongTensor(title_len).to(device)\n",
    "\n",
    "# 进行预测\n",
    "with torch.no_grad():\n",
    "    outputs = model((title_seq, title_len))\n",
    "    predicted = torch.max(outputs.data, 1)[1].cpu().numpy()\n",
    "\n",
    "# 输出预测结果\n",
    "class_list = [x.strip() for x in open(os.path.join(dataset, 'data', 'class.txt')).readlines()]\n",
    "predicted_class = class_list[predicted[0]]\n",
    "print(f'预测类别: {predicted_class}')"
   ]
  }
 ],
 "metadata": {
  "kernelspec": {
   "display_name": "Python 3",
   "language": "python",
   "name": "python3"
  },
  "language_info": {
   "codemirror_mode": {
    "name": "ipython",
    "version": 3
   },
   "file_extension": ".py",
   "mimetype": "text/x-python",
   "name": "python",
   "nbconvert_exporter": "python",
   "pygments_lexer": "ipython3",
   "version": "3.10.10"
  }
 },
 "nbformat": 4,
 "nbformat_minor": 2
}
